{
 "cells": [
  {
   "cell_type": "markdown",
   "id": "6ea772c4",
   "metadata": {},
   "source": [
    "Libraries included"
   ]
  },
  {
   "cell_type": "code",
   "execution_count": 1,
   "id": "4d03fc7a",
   "metadata": {},
   "outputs": [],
   "source": [
    "import requests\n",
    "import bs4\n",
    "import csv\n",
    "import pywhatkit\n",
    "from ipywidgets import interact,interactive,fixed\n",
    "import ipywidgets as widgets"
   ]
  },
  {
   "cell_type": "markdown",
   "id": "da050d31",
   "metadata": {},
   "source": [
    "layout through OOP"
   ]
  },
  {
   "cell_type": "code",
   "execution_count": 2,
   "id": "06fb0147",
   "metadata": {},
   "outputs": [],
   "source": [
    "class Weather():\n",
    "    def __init__(self,name,number,city):\n",
    "        self.name=name\n",
    "        self.num='+91'+number\n",
    "        self.city=city\n",
    "    \n",
    "    def change_city(self,city):\n",
    "        self.city=city\n",
    "        \n",
    "    def fetch_weather(self):\n",
    "        res = requests.get('https://www.timeanddate.com/weather/india/{}'.format(self.city)) \n",
    "        self.soup = bs4.BeautifulSoup(res.text,'lxml')\n",
    "    \n",
    "    def generate_info(self):\n",
    "        temp = self.soup.select('.h2')[0]\n",
    "        temp = str(temp)\n",
    "        degree = '°C'\n",
    "        temp = temp[16:18]+temp[19:21]\n",
    "        \n",
    "        sky = str(self.soup.select('p')[0])[3:-4]\n",
    "\n",
    "        extras = self.soup.select('p')[1].text\n",
    "        feels_like = extras[12:14]+degree\n",
    "        high_low = extras[27:34]\n",
    "        \n",
    "        #print(temp+' '+high_low+' '+feels_like+' '+sky)\n",
    "        print('Weather Updated')\n",
    "        \n",
    "        self.temp=temp\n",
    "        self.sky=sky\n",
    "        self.high_low=high_low\n",
    "        self.feels_like=feels_like"
   ]
  },
  {
   "cell_type": "markdown",
   "id": "9d18591c",
   "metadata": {},
   "source": [
    "Default Information"
   ]
  },
  {
   "cell_type": "code",
   "execution_count": 3,
   "id": "4cb97ba0",
   "metadata": {},
   "outputs": [
    {
     "name": "stdout",
     "output_type": "stream",
     "text": [
      "Weather Updated\n"
     ]
    }
   ],
   "source": [
    "a = Weather('Default','0000000000','Jabalpur')\n",
    "a.fetch_weather()\n",
    "a.generate_info()"
   ]
  },
  {
   "cell_type": "markdown",
   "id": "f9124e5c",
   "metadata": {},
   "source": [
    "Interactive Panel for User Information"
   ]
  },
  {
   "cell_type": "code",
   "execution_count": 4,
   "id": "960ac011",
   "metadata": {},
   "outputs": [
    {
     "data": {
      "application/vnd.jupyter.widget-view+json": {
       "model_id": "0b966e38f0244eb083d7cd1a75057aa9",
       "version_major": 2,
       "version_minor": 0
      },
      "text/plain": [
       "interactive(children=(Text(value='Default', description='Name'), Text(value='Default', description='Number'), …"
      ]
     },
     "metadata": {},
     "output_type": "display_data"
    }
   ],
   "source": [
    "@interact(Name='Default',Number='Default',City='Default') \n",
    "def change_info(Name,Number,City):\n",
    "    a.name=Name\n",
    "    a.city=City.lower()\n",
    "    a.num='+91'+Number"
   ]
  },
  {
   "cell_type": "markdown",
   "id": "aeacaca7",
   "metadata": {},
   "source": [
    "Time and Weather Updation"
   ]
  },
  {
   "cell_type": "code",
   "execution_count": null,
   "id": "bfb80fe3",
   "metadata": {},
   "outputs": [
    {
     "name": "stdout",
     "output_type": "stream",
     "text": [
      "Weather Updated\n",
      "In 27 Seconds WhatsApp will open and after 30 Seconds Message will be Delivered!\n"
     ]
    }
   ],
   "source": [
    "a.fetch_weather()\n",
    "a.generate_info()\n",
    "pywhatkit.sendwhatmsg(\"{}\".format(a.num), '''Hi There! Here Is Your Current Weather Info.\n",
    "\n",
    "  Weather: {}\n",
    "  Temprature: {}\n",
    "  High / Low: {}\n",
    "  Feels Like: {}\n",
    "  \n",
    "Have A Dreat Day'''.format(a.sky,a.temp,a.high_low,a.feels_like), 19, 19, 30, True, 10)"
   ]
  },
  {
   "cell_type": "code",
   "execution_count": null,
   "id": "15fd0688",
   "metadata": {},
   "outputs": [],
   "source": []
  }
 ],
 "metadata": {
  "kernelspec": {
   "display_name": "Python 3",
   "language": "python",
   "name": "python3"
  },
  "language_info": {
   "codemirror_mode": {
    "name": "ipython",
    "version": 3
   },
   "file_extension": ".py",
   "mimetype": "text/x-python",
   "name": "python",
   "nbconvert_exporter": "python",
   "pygments_lexer": "ipython3",
   "version": "3.8.8"
  }
 },
 "nbformat": 4,
 "nbformat_minor": 5
}
